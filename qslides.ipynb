{
 "cells": [
  {
   "cell_type": "raw",
   "id": "3a466ec2-becd-43ed-81ba-3f55aebb0fa6",
   "metadata": {
    "vscode": {
     "languageId": "raw"
    }
   },
   "source": [
    "---\n",
    "title: \"Qslides\"\n",
    "bibliography: ref.bib\n",
    "author: \"강정혁\"\n",
    "date: \"01/02/2025\"\n",
    "format:\n",
    "  revealjs:\n",
    "    chalkboard: true\n",
    "---"
   ]
  },
  {
   "cell_type": "markdown",
   "id": "1d22e74a-c4e1-46ce-9281-bf5137c0d1a4",
   "metadata": {},
   "source": [
    "# What is Quarto?"
   ]
  },
  {
   "cell_type": "markdown",
   "id": "94c25eb6-2248-448a-b4c4-90ace59495c8",
   "metadata": {},
   "source": [
    "## About Quarto "
   ]
  },
  {
   "cell_type": "markdown",
   "id": "e11ba957-d916-4cc3-b809-a302c0f33e09",
   "metadata": {},
   "source": [
    "**Official website**: <https://quarto.org/>"
   ]
  },
  {
   "cell_type": "markdown",
   "id": "9360b43e-6989-427f-863e-78cbb15376ca",
   "metadata": {},
   "source": [
    "***Quarto is an open-source scientific and technical publishing system built on Pandoc.***\n",
    "\n",
    "- Publish high-quality articles, reports, presentations, websites, blogs, and books in HTML, PDF, MS Word, ePub, and more.\n",
    "- Author with scientific markdown, including equations, citations, crossrefs, figure panels, callouts, advanced layout, and more."
   ]
  },
  {
   "cell_type": "markdown",
   "id": "fe90b113-24b5-48fc-87eb-82d7f7b1b4be",
   "metadata": {},
   "source": [
    "# Why should we use quarto? "
   ]
  },
  {
   "cell_type": "markdown",
   "id": "707f3f99-08b9-44c4-a3d6-ff710ec7b482",
   "metadata": {},
   "source": [
    "## Equations (1)"
   ]
  },
  {
   "cell_type": "markdown",
   "id": "c9087712-7c72-4ab1-8e38-58f19db3872f",
   "metadata": {},
   "source": [
    "- $x, y, z$\n",
    "- $x_1,x_2,x_3$\n",
    "- $x^2, x^3, x^4$\n",
    "- $\\alpha, \\beta, \\gamma, \\delta, \\epsilon$ \n",
    "- $\\frac{1}{2}, \\frac{1}{3}, \\frac{2}{3}, \\dots$\n",
    "- $\\frac{1}{\\sqrt{2\\pi}} e^{-\\frac{1}{2}x^2}$\n",
    "- $X_1, X_2, \\dots, X_n \\overset{i.i.d.}{\\sim} N(0,1)$\n",
    "- $\\frac{X_1+\\dots+X_n}{n} \\overset{p}{\\to} \\mu$"
   ]
  },
  {
   "cell_type": "markdown",
   "id": "efb79d0e-94b2-4106-8192-96a6cc6e7a9e",
   "metadata": {},
   "source": [
    "## Equations (2)"
   ]
  },
  {
   "cell_type": "markdown",
   "id": "21bf4142-e7b5-4802-b48b-819bd3aabc0f",
   "metadata": {},
   "source": [
    "- ${\\boldsymbol a}, {\\bf a}, {\\boldsymbol B}, {\\bf B}, {\\boldsymbol \\alpha}, {\\boldsymbol \\Omega}, \\dots$\n",
    "- $\\mathbb{R}, \\mathbb{Z}, \\mathbb{R}^2, \\dots$ \n",
    "- ${\\bf A}^{-1}, {\\bf A}^{\\top}, {\\bf A}^t, \\dots$ \n",
    "- ${\\boldsymbol y} = {\\bf X}{\\boldsymbol \\beta} + {\\boldsymbol \\epsilon}, \\quad {\\boldsymbol \\epsilon} \\sim N({\\bf 0}, {\\bf I})$\n",
    "- $\\underset{x}{\\operatorname{min}}f(x)$, $\\underset{x}{\\operatorname{argmin}}f(x)$\n",
    "- $\\begin{cases} x+y = 1 \\\\ x-y = 1\\end{cases}$"
   ]
  },
  {
   "cell_type": "markdown",
   "id": "2792eb67-dbd8-451e-bfa2-73096f8572e6",
   "metadata": {},
   "source": [
    "## Tables (1)"
   ]
  },
  {
   "cell_type": "markdown",
   "id": "259a30ea-88fe-4f09-ad18-d74483da9650",
   "metadata": {},
   "source": [
    "| Default | Left | Right | Center |\n",
    "|---------|:-----|------:|:------:|\n",
    "| 12      | 12   |    12 |   12   |\n",
    "| 123     | 123  |   123 |  123   |\n",
    "| 1       | 1    |     1 |   1    |\n",
    "\n",
    ": Demonstration of pipe table syntax"
   ]
  },
  {
   "cell_type": "markdown",
   "id": "f7d5c452-1df6-4bdf-b6fe-9152f15b577c",
   "metadata": {},
   "source": [
    "## Tables (2)"
   ]
  },
  {
   "cell_type": "markdown",
   "id": "1acc3529-605c-49d9-b9c1-10a1cb84389f",
   "metadata": {},
   "source": [
    "::: {#tbl-panel layout-ncol=2}\n",
    "| Col1 | Col2 | Col3 |\n",
    "|------|------|------|\n",
    "| A    | B    | C    |\n",
    "| E    | F    | G    |\n",
    "| A    | G    | G    |\n",
    "\n",
    ": First Table {#tbl-first}\n",
    "\n",
    "| Col1 | Col2 | Col3 |\n",
    "|------|------|------|\n",
    "| A    | B    | C    |\n",
    "| E    | F    | G    |\n",
    "| A    | G    | G    |\n",
    "\n",
    ": Second Table {#tbl-second}\n",
    "\n",
    "Main Caption\n",
    ":::\n",
    "\n",
    "Main Caption "
   ]
  },
  {
   "cell_type": "markdown",
   "id": "ed7424dc-eeb3-430b-ae1f-9f84306f7893",
   "metadata": {},
   "source": [
    "## Diagrams (1)"
   ]
  },
  {
   "cell_type": "markdown",
   "id": "37b94f35-2242-4082-97eb-bd1cc8c1349e",
   "metadata": {},
   "source": [
    "```{mermaid}\n",
    "flowchart LR\n",
    "  A[Hard edge] --> B(Round edge)\n",
    "  B --> C{Decision}\n",
    "  C --> D[Result1]\n",
    "  C --> E[Result2]\n",
    "```"
   ]
  },
  {
   "cell_type": "markdown",
   "id": "8c2733ef-df79-4b60-ac9e-7ce4681a47b3",
   "metadata": {},
   "source": [
    "## Diagrams (2)"
   ]
  },
  {
   "cell_type": "markdown",
   "id": "60138df3-646f-46d2-8852-22147c6f62cc",
   "metadata": {},
   "source": [
    "```{mermaid}\n",
    "sequenceDiagram\n",
    "  participant Alice\n",
    "  participant Bob\n",
    "  Alice->>John: Hello John, how are you?\n",
    "  loop Healthcheck\n",
    "    John->>John: Fight against hypochondria\n",
    "  end\n",
    "  Note right of John: Rational thoughts <br/>prevail!\n",
    "  John-->>Alice: Great!\n",
    "  John->>Bob: How about you?\n",
    "  Bob-->>John: Jolly good!\n",
    "```"
   ]
  },
  {
   "cell_type": "markdown",
   "id": "f6db5e51-a9ad-4abc-8dd1-7c394d036ab1",
   "metadata": {},
   "source": [
    "## Diagrams (3)"
   ]
  },
  {
   "cell_type": "markdown",
   "id": "27056b20-69f7-4c3f-bfff-cf2ca6fc1ebd",
   "metadata": {},
   "source": [
    "```{dot}\n",
    "graph G {\n",
    "  layout=neato\n",
    "  run -- intr;\n",
    "  intr -- runbl;\n",
    "  runbl -- run;\n",
    "  run -- kernel;\n",
    "  kernel -- zombie;\n",
    "  kernel -- sleep;\n",
    "  kernel -- runmem;\n",
    "  sleep -- swap;\n",
    "  swap -- runswap;\n",
    "  runswap -- new;\n",
    "  runswap -- runmem;\n",
    "  new -- runmem;\n",
    "  sleep -- runmem;\n",
    "}\n",
    "```"
   ]
  },
  {
   "cell_type": "markdown",
   "id": "c4f63c0b-0271-404c-b38e-b09cc2497760",
   "metadata": {},
   "source": [
    "## Footnotes"
   ]
  },
  {
   "cell_type": "markdown",
   "id": "753b9cbb-4817-45b8-886f-24612f824dfa",
   "metadata": {},
   "source": [
    "Here is an inline note.^[Inlines notes are easier to write,\n",
    "since you don't have to pick an identifier and move down to\n",
    "type the note.]"
   ]
  },
  {
   "cell_type": "markdown",
   "id": "3b0d967a-1bd7-4ca5-b587-4a477e1cc0da",
   "metadata": {},
   "source": [
    "## Citation \n",
    "\n",
    "::: {layout-ncol=2}\n",
    "### codes in quarto\n",
    "```\n",
    "- Blah Blah [@chandola2009anomaly; @bronstein2017geometric].\n",
    "\n",
    "- Chandola says blah [-@chandola2009anomaly]\n",
    "```\n",
    "    \n",
    "### output\n",
    "\n",
    "- Blah Blah [@chandola2009anomaly; @bronstein2017geometric].\n",
    "\n",
    "- Chandola says blah [-@chandola2009anomaly]\n",
    ":::"
   ]
  },
  {
   "cell_type": "markdown",
   "id": "971b2a73-7d0f-4bbb-bcc2-d0e28fba2182",
   "metadata": {},
   "source": [
    "## Bibliography Generation"
   ]
  },
  {
   "cell_type": "markdown",
   "id": "d7909e1b-ef1d-485f-b04f-831a9b15566c",
   "metadata": {},
   "source": [
    "::: {layout-ncol=2}\n",
    "### codes in quarto\n",
    "```\n",
    "::: {#refs}\n",
    ":::\n",
    "```\n",
    "\n",
    "\n",
    "    \n",
    "### output\n",
    "::: {#refs}\n",
    ":::\n",
    ":::"
   ]
  },
  {
   "cell_type": "markdown",
   "id": "01a69724-21cf-470e-b42d-9fd4575b3c1b",
   "metadata": {},
   "source": [
    "## Tabsets"
   ]
  },
  {
   "cell_type": "markdown",
   "id": "06c17977-a202-4373-a88d-0d394de9da3f",
   "metadata": {},
   "source": [
    "::: {.panel-tabset}\n",
    "\n",
    "### Tab A\n",
    "\n",
    "Content for `Tab A`\n",
    "\n",
    "### Tab B\n",
    "\n",
    "Content for `Tab B`\n",
    "\n",
    ":::"
   ]
  },
  {
   "cell_type": "markdown",
   "id": "a6dfd5b1-1318-464d-b261-c3b8e86d1a4c",
   "metadata": {},
   "source": [
    "## Figures (1)"
   ]
  },
  {
   "cell_type": "markdown",
   "id": "beb1ee9a-fb72-4dba-9aba-84dfd0b48cbb",
   "metadata": {},
   "source": [
    "![](https://upload.wikimedia.org/wikipedia/commons/6/6d/Asian_Elephant%2C_Royal_Chitwan_National_Park.jpg)"
   ]
  },
  {
   "cell_type": "markdown",
   "id": "0a563cb5-0ee2-4581-99cf-751dd72b4cd7",
   "metadata": {},
   "source": [
    "## Figures (2)"
   ]
  },
  {
   "cell_type": "markdown",
   "id": "37e5e905-a94c-43a7-91c9-8a921b083350",
   "metadata": {},
   "source": [
    "```Python\n",
    "#| layout-ncol: 2\n",
    "#| fig-cap: \n",
    "#|   - \"Fig1: Scatter Plot\"\n",
    "#|   - \"Fig2: Dot-connected Plot\"\n",
    "\n",
    "import matplotlib.pyplot as plt\n",
    "plt.plot([1,2,4,3],'ro'); plt.show()\n",
    "plt.plot([1,2,4,3],'--ro'); plt.show()\n",
    "```"
   ]
  },
  {
   "cell_type": "code",
   "execution_count": 1,
   "id": "fe775ce7-9a4a-4e35-921a-9618112674a6",
   "metadata": {},
   "outputs": [
    {
     "data": {
      "image/png": "[encoded data removed]",
      "text/plain": [
       "<Figure size 640x480 with 1 Axes>"
      ]
     },
     "metadata": {},
     "output_type": "display_data"
    },
    {
     "data": {
      "image/png": "[encoded data removed]",
      "text/plain": [
       "<Figure size 640x480 with 1 Axes>"
      ]
     },
     "metadata": {},
     "output_type": "display_data"
    }
   ],
   "source": [
    "#| layout-ncol: 2\n",
    "#| fig-cap: \n",
    "#|   - \"Fig1: Scatter Plot\"\n",
    "#|   - \"Fig2: Dot-connected Plot\"\n",
    "\n",
    "import matplotlib.pyplot as plt\n",
    "plt.plot([1,2,4,3],'ro');plt.show()\n",
    "plt.plot([1,2,4,3],'--ro');plt.show()"
   ]
  },
  {
   "cell_type": "markdown",
   "id": "3d9498fc-4747-4018-a4a5-7d139681c962",
   "metadata": {},
   "source": [
    "## Outputs"
   ]
  },
  {
   "cell_type": "markdown",
   "id": "10b12a1c-66d9-4ee7-ad5f-22a7a67f8de2",
   "metadata": {},
   "source": [
    "- Airticles & Reports: [html](https://quarto-dev.github.io/quarto-gallery/articles/html/html.html), [pdf1](https://nmfs-opensci.github.io/quarto_titlepages/titlepages/bg-image/article.pdf), [pdf2](https://quarto-dev.github.io/quarto-gallery/page-layout/tufte.pdf), [msword](https://quarto-dev.github.io/quarto-gallery/articles/msword/msword.docx).\n"
   ]
  },
  {
   "cell_type": "markdown",
   "id": "f79fb9d7-8844-4090-9c1f-75889dd5a2e4",
   "metadata": {},
   "source": [
    "- Presentations: [beamer](https://quarto-dev.github.io/quarto-gallery/presentations/beamer/beamer.pdf), [powerpoint](https://quarto-dev.github.io/quarto-gallery/presentations/powerpoint/powerpoint.pptx)."
   ]
  },
  {
   "cell_type": "markdown",
   "id": "669b5dc6-0427-4beb-a8d8-6ea2989ac24c",
   "metadata": {},
   "source": [
    "- Websites: [DV2023](https://guebin.github.io/DV2023/), [DV2023-DASH](https://guebin.github.io/DV2023-DASH)."
   ]
  },
  {
   "cell_type": "markdown",
   "id": "5f435755-4fcc-4cd7-8516-c6cfa5e9bbf9",
   "metadata": {},
   "source": [
    "- Books: [Hands-On Programming with R](https://jjallaire.github.io/hopr/), [Python for Data Analysis, 3E](https://wesmckinney.com/book/)."
   ]
  }
 ],
 "metadata": {
  "kernelspec": {
   "display_name": "Python 3 (ipykernel)",
   "language": "python",
   "name": "python3"
  },
  "language_info": {
   "codemirror_mode": {
    "name": "ipython",
    "version": 3
   },
   "file_extension": ".py",
   "mimetype": "text/x-python",
   "name": "python",
   "nbconvert_exporter": "python",
   "pygments_lexer": "ipython3",
   "version": "3.10.16"
  }
 },
 "nbformat": 4,
 "nbformat_minor": 5
}
